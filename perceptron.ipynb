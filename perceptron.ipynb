{
 "cells": [
  {
   "cell_type": "markdown",
   "metadata": {
    "collapsed": true
   },
   "source": [
    "# Perceptron\n",
    "\n",
    "Adapted from S. Raschka & V. Mirjalili's Python Machine Learning."
   ]
  },
  {
   "cell_type": "code",
   "execution_count": 1,
   "metadata": {},
   "outputs": [],
   "source": [
    "import numpy as np\n",
    "import matplotlib.pyplot as plt\n",
    "from sklearn import datasets"
   ]
  },
  {
   "cell_type": "code",
   "execution_count": 2,
   "metadata": {},
   "outputs": [
    {
     "data": {
      "text/plain": [
       "{'data': array([[5.1, 3.5, 1.4, 0.2],\n",
       "        [4.9, 3. , 1.4, 0.2],\n",
       "        [4.7, 3.2, 1.3, 0.2],\n",
       "        [4.6, 3.1, 1.5, 0.2],\n",
       "        [5. , 3.6, 1.4, 0.2],\n",
       "        [5.4, 3.9, 1.7, 0.4],\n",
       "        [4.6, 3.4, 1.4, 0.3],\n",
       "        [5. , 3.4, 1.5, 0.2],\n",
       "        [4.4, 2.9, 1.4, 0.2],\n",
       "        [4.9, 3.1, 1.5, 0.1],\n",
       "        [5.4, 3.7, 1.5, 0.2],\n",
       "        [4.8, 3.4, 1.6, 0.2],\n",
       "        [4.8, 3. , 1.4, 0.1],\n",
       "        [4.3, 3. , 1.1, 0.1],\n",
       "        [5.8, 4. , 1.2, 0.2],\n",
       "        [5.7, 4.4, 1.5, 0.4],\n",
       "        [5.4, 3.9, 1.3, 0.4],\n",
       "        [5.1, 3.5, 1.4, 0.3],\n",
       "        [5.7, 3.8, 1.7, 0.3],\n",
       "        [5.1, 3.8, 1.5, 0.3],\n",
       "        [5.4, 3.4, 1.7, 0.2],\n",
       "        [5.1, 3.7, 1.5, 0.4],\n",
       "        [4.6, 3.6, 1. , 0.2],\n",
       "        [5.1, 3.3, 1.7, 0.5],\n",
       "        [4.8, 3.4, 1.9, 0.2],\n",
       "        [5. , 3. , 1.6, 0.2],\n",
       "        [5. , 3.4, 1.6, 0.4],\n",
       "        [5.2, 3.5, 1.5, 0.2],\n",
       "        [5.2, 3.4, 1.4, 0.2],\n",
       "        [4.7, 3.2, 1.6, 0.2],\n",
       "        [4.8, 3.1, 1.6, 0.2],\n",
       "        [5.4, 3.4, 1.5, 0.4],\n",
       "        [5.2, 4.1, 1.5, 0.1],\n",
       "        [5.5, 4.2, 1.4, 0.2],\n",
       "        [4.9, 3.1, 1.5, 0.2],\n",
       "        [5. , 3.2, 1.2, 0.2],\n",
       "        [5.5, 3.5, 1.3, 0.2],\n",
       "        [4.9, 3.6, 1.4, 0.1],\n",
       "        [4.4, 3. , 1.3, 0.2],\n",
       "        [5.1, 3.4, 1.5, 0.2],\n",
       "        [5. , 3.5, 1.3, 0.3],\n",
       "        [4.5, 2.3, 1.3, 0.3],\n",
       "        [4.4, 3.2, 1.3, 0.2],\n",
       "        [5. , 3.5, 1.6, 0.6],\n",
       "        [5.1, 3.8, 1.9, 0.4],\n",
       "        [4.8, 3. , 1.4, 0.3],\n",
       "        [5.1, 3.8, 1.6, 0.2],\n",
       "        [4.6, 3.2, 1.4, 0.2],\n",
       "        [5.3, 3.7, 1.5, 0.2],\n",
       "        [5. , 3.3, 1.4, 0.2],\n",
       "        [7. , 3.2, 4.7, 1.4],\n",
       "        [6.4, 3.2, 4.5, 1.5],\n",
       "        [6.9, 3.1, 4.9, 1.5],\n",
       "        [5.5, 2.3, 4. , 1.3],\n",
       "        [6.5, 2.8, 4.6, 1.5],\n",
       "        [5.7, 2.8, 4.5, 1.3],\n",
       "        [6.3, 3.3, 4.7, 1.6],\n",
       "        [4.9, 2.4, 3.3, 1. ],\n",
       "        [6.6, 2.9, 4.6, 1.3],\n",
       "        [5.2, 2.7, 3.9, 1.4],\n",
       "        [5. , 2. , 3.5, 1. ],\n",
       "        [5.9, 3. , 4.2, 1.5],\n",
       "        [6. , 2.2, 4. , 1. ],\n",
       "        [6.1, 2.9, 4.7, 1.4],\n",
       "        [5.6, 2.9, 3.6, 1.3],\n",
       "        [6.7, 3.1, 4.4, 1.4],\n",
       "        [5.6, 3. , 4.5, 1.5],\n",
       "        [5.8, 2.7, 4.1, 1. ],\n",
       "        [6.2, 2.2, 4.5, 1.5],\n",
       "        [5.6, 2.5, 3.9, 1.1],\n",
       "        [5.9, 3.2, 4.8, 1.8],\n",
       "        [6.1, 2.8, 4. , 1.3],\n",
       "        [6.3, 2.5, 4.9, 1.5],\n",
       "        [6.1, 2.8, 4.7, 1.2],\n",
       "        [6.4, 2.9, 4.3, 1.3],\n",
       "        [6.6, 3. , 4.4, 1.4],\n",
       "        [6.8, 2.8, 4.8, 1.4],\n",
       "        [6.7, 3. , 5. , 1.7],\n",
       "        [6. , 2.9, 4.5, 1.5],\n",
       "        [5.7, 2.6, 3.5, 1. ],\n",
       "        [5.5, 2.4, 3.8, 1.1],\n",
       "        [5.5, 2.4, 3.7, 1. ],\n",
       "        [5.8, 2.7, 3.9, 1.2],\n",
       "        [6. , 2.7, 5.1, 1.6],\n",
       "        [5.4, 3. , 4.5, 1.5],\n",
       "        [6. , 3.4, 4.5, 1.6],\n",
       "        [6.7, 3.1, 4.7, 1.5],\n",
       "        [6.3, 2.3, 4.4, 1.3],\n",
       "        [5.6, 3. , 4.1, 1.3],\n",
       "        [5.5, 2.5, 4. , 1.3],\n",
       "        [5.5, 2.6, 4.4, 1.2],\n",
       "        [6.1, 3. , 4.6, 1.4],\n",
       "        [5.8, 2.6, 4. , 1.2],\n",
       "        [5. , 2.3, 3.3, 1. ],\n",
       "        [5.6, 2.7, 4.2, 1.3],\n",
       "        [5.7, 3. , 4.2, 1.2],\n",
       "        [5.7, 2.9, 4.2, 1.3],\n",
       "        [6.2, 2.9, 4.3, 1.3],\n",
       "        [5.1, 2.5, 3. , 1.1],\n",
       "        [5.7, 2.8, 4.1, 1.3],\n",
       "        [6.3, 3.3, 6. , 2.5],\n",
       "        [5.8, 2.7, 5.1, 1.9],\n",
       "        [7.1, 3. , 5.9, 2.1],\n",
       "        [6.3, 2.9, 5.6, 1.8],\n",
       "        [6.5, 3. , 5.8, 2.2],\n",
       "        [7.6, 3. , 6.6, 2.1],\n",
       "        [4.9, 2.5, 4.5, 1.7],\n",
       "        [7.3, 2.9, 6.3, 1.8],\n",
       "        [6.7, 2.5, 5.8, 1.8],\n",
       "        [7.2, 3.6, 6.1, 2.5],\n",
       "        [6.5, 3.2, 5.1, 2. ],\n",
       "        [6.4, 2.7, 5.3, 1.9],\n",
       "        [6.8, 3. , 5.5, 2.1],\n",
       "        [5.7, 2.5, 5. , 2. ],\n",
       "        [5.8, 2.8, 5.1, 2.4],\n",
       "        [6.4, 3.2, 5.3, 2.3],\n",
       "        [6.5, 3. , 5.5, 1.8],\n",
       "        [7.7, 3.8, 6.7, 2.2],\n",
       "        [7.7, 2.6, 6.9, 2.3],\n",
       "        [6. , 2.2, 5. , 1.5],\n",
       "        [6.9, 3.2, 5.7, 2.3],\n",
       "        [5.6, 2.8, 4.9, 2. ],\n",
       "        [7.7, 2.8, 6.7, 2. ],\n",
       "        [6.3, 2.7, 4.9, 1.8],\n",
       "        [6.7, 3.3, 5.7, 2.1],\n",
       "        [7.2, 3.2, 6. , 1.8],\n",
       "        [6.2, 2.8, 4.8, 1.8],\n",
       "        [6.1, 3. , 4.9, 1.8],\n",
       "        [6.4, 2.8, 5.6, 2.1],\n",
       "        [7.2, 3. , 5.8, 1.6],\n",
       "        [7.4, 2.8, 6.1, 1.9],\n",
       "        [7.9, 3.8, 6.4, 2. ],\n",
       "        [6.4, 2.8, 5.6, 2.2],\n",
       "        [6.3, 2.8, 5.1, 1.5],\n",
       "        [6.1, 2.6, 5.6, 1.4],\n",
       "        [7.7, 3. , 6.1, 2.3],\n",
       "        [6.3, 3.4, 5.6, 2.4],\n",
       "        [6.4, 3.1, 5.5, 1.8],\n",
       "        [6. , 3. , 4.8, 1.8],\n",
       "        [6.9, 3.1, 5.4, 2.1],\n",
       "        [6.7, 3.1, 5.6, 2.4],\n",
       "        [6.9, 3.1, 5.1, 2.3],\n",
       "        [5.8, 2.7, 5.1, 1.9],\n",
       "        [6.8, 3.2, 5.9, 2.3],\n",
       "        [6.7, 3.3, 5.7, 2.5],\n",
       "        [6.7, 3. , 5.2, 2.3],\n",
       "        [6.3, 2.5, 5. , 1.9],\n",
       "        [6.5, 3. , 5.2, 2. ],\n",
       "        [6.2, 3.4, 5.4, 2.3],\n",
       "        [5.9, 3. , 5.1, 1.8]]),\n",
       " 'target': array([0, 0, 0, 0, 0, 0, 0, 0, 0, 0, 0, 0, 0, 0, 0, 0, 0, 0, 0, 0, 0, 0,\n",
       "        0, 0, 0, 0, 0, 0, 0, 0, 0, 0, 0, 0, 0, 0, 0, 0, 0, 0, 0, 0, 0, 0,\n",
       "        0, 0, 0, 0, 0, 0, 1, 1, 1, 1, 1, 1, 1, 1, 1, 1, 1, 1, 1, 1, 1, 1,\n",
       "        1, 1, 1, 1, 1, 1, 1, 1, 1, 1, 1, 1, 1, 1, 1, 1, 1, 1, 1, 1, 1, 1,\n",
       "        1, 1, 1, 1, 1, 1, 1, 1, 1, 1, 1, 1, 2, 2, 2, 2, 2, 2, 2, 2, 2, 2,\n",
       "        2, 2, 2, 2, 2, 2, 2, 2, 2, 2, 2, 2, 2, 2, 2, 2, 2, 2, 2, 2, 2, 2,\n",
       "        2, 2, 2, 2, 2, 2, 2, 2, 2, 2, 2, 2, 2, 2, 2, 2, 2, 2]),\n",
       " 'target_names': array(['setosa', 'versicolor', 'virginica'], dtype='<U10'),\n",
       " 'DESCR': '.. _iris_dataset:\\n\\nIris plants dataset\\n--------------------\\n\\n**Data Set Characteristics:**\\n\\n    :Number of Instances: 150 (50 in each of three classes)\\n    :Number of Attributes: 4 numeric, predictive attributes and the class\\n    :Attribute Information:\\n        - sepal length in cm\\n        - sepal width in cm\\n        - petal length in cm\\n        - petal width in cm\\n        - class:\\n                - Iris-Setosa\\n                - Iris-Versicolour\\n                - Iris-Virginica\\n                \\n    :Summary Statistics:\\n\\n    ============== ==== ==== ======= ===== ====================\\n                    Min  Max   Mean    SD   Class Correlation\\n    ============== ==== ==== ======= ===== ====================\\n    sepal length:   4.3  7.9   5.84   0.83    0.7826\\n    sepal width:    2.0  4.4   3.05   0.43   -0.4194\\n    petal length:   1.0  6.9   3.76   1.76    0.9490  (high!)\\n    petal width:    0.1  2.5   1.20   0.76    0.9565  (high!)\\n    ============== ==== ==== ======= ===== ====================\\n\\n    :Missing Attribute Values: None\\n    :Class Distribution: 33.3% for each of 3 classes.\\n    :Creator: R.A. Fisher\\n    :Donor: Michael Marshall (MARSHALL%PLU@io.arc.nasa.gov)\\n    :Date: July, 1988\\n\\nThe famous Iris database, first used by Sir R.A. Fisher. The dataset is taken\\nfrom Fisher\\'s paper. Note that it\\'s the same as in R, but not as in the UCI\\nMachine Learning Repository, which has two wrong data points.\\n\\nThis is perhaps the best known database to be found in the\\npattern recognition literature.  Fisher\\'s paper is a classic in the field and\\nis referenced frequently to this day.  (See Duda & Hart, for example.)  The\\ndata set contains 3 classes of 50 instances each, where each class refers to a\\ntype of iris plant.  One class is linearly separable from the other 2; the\\nlatter are NOT linearly separable from each other.\\n\\n.. topic:: References\\n\\n   - Fisher, R.A. \"The use of multiple measurements in taxonomic problems\"\\n     Annual Eugenics, 7, Part II, 179-188 (1936); also in \"Contributions to\\n     Mathematical Statistics\" (John Wiley, NY, 1950).\\n   - Duda, R.O., & Hart, P.E. (1973) Pattern Classification and Scene Analysis.\\n     (Q327.D83) John Wiley & Sons.  ISBN 0-471-22361-1.  See page 218.\\n   - Dasarathy, B.V. (1980) \"Nosing Around the Neighborhood: A New System\\n     Structure and Classification Rule for Recognition in Partially Exposed\\n     Environments\".  IEEE Transactions on Pattern Analysis and Machine\\n     Intelligence, Vol. PAMI-2, No. 1, 67-71.\\n   - Gates, G.W. (1972) \"The Reduced Nearest Neighbor Rule\".  IEEE Transactions\\n     on Information Theory, May 1972, 431-433.\\n   - See also: 1988 MLC Proceedings, 54-64.  Cheeseman et al\"s AUTOCLASS II\\n     conceptual clustering system finds 3 classes in the data.\\n   - Many, many more ...',\n",
       " 'feature_names': ['sepal length (cm)',\n",
       "  'sepal width (cm)',\n",
       "  'petal length (cm)',\n",
       "  'petal width (cm)'],\n",
       " 'filename': '/Users/heatherreeve-black/anaconda/envs/MLLib/lib/python3.6/site-packages/sklearn/datasets/data/iris.csv'}"
      ]
     },
     "execution_count": 2,
     "metadata": {},
     "output_type": "execute_result"
    }
   ],
   "source": [
    "iris = datasets.load_iris()\n",
    "iris"
   ]
  },
  {
   "cell_type": "code",
   "execution_count": 3,
   "metadata": {},
   "outputs": [
    {
     "data": {
      "text/plain": [
       "dict_keys(['data', 'target', 'target_names', 'DESCR', 'feature_names', 'filename'])"
      ]
     },
     "execution_count": 3,
     "metadata": {},
     "output_type": "execute_result"
    }
   ],
   "source": [
    "iris.keys()"
   ]
  },
  {
   "cell_type": "code",
   "execution_count": 5,
   "metadata": {},
   "outputs": [],
   "source": [
    "data = np.array(iris['data'])\n",
    "target = np.array(iris['target'])\n",
    "n_samples = data.shape[0]\n",
    "n_features = data.shape[1]\n",
    "target_names = iris['target_names']\n",
    "feature_names = iris['feature_names']"
   ]
  },
  {
   "cell_type": "code",
   "execution_count": 6,
   "metadata": {},
   "outputs": [
    {
     "data": {
      "text/plain": [
       "((150, 4), (150,))"
      ]
     },
     "execution_count": 6,
     "metadata": {},
     "output_type": "execute_result"
    }
   ],
   "source": [
    "data.shape, target.shape"
   ]
  },
  {
   "cell_type": "code",
   "execution_count": 7,
   "metadata": {},
   "outputs": [
    {
     "name": "stdout",
     "output_type": "stream",
     "text": [
      "Help on class Perceptron in module ml.nn_perceptron:\n",
      "\n",
      "class Perceptron(builtins.object)\n",
      " |  Perceptron classifier\n",
      " |  \n",
      " |  Methods defined here:\n",
      " |  \n",
      " |  __init__(self, n_iterations, learning_rate, activation_function)\n",
      " |      Initialize self.  See help(type(self)) for accurate signature.\n",
      " |  \n",
      " |  fit(self, training_data, y)\n",
      " |  \n",
      " |  predict(self, x)\n",
      " |      Predict the class of each sample in X\n",
      " |      Predicted class of sample x is:\n",
      " |          +1  if w^T.x >= 0\n",
      " |          -1  otherwise\n",
      " |  \n",
      " |  ----------------------------------------------------------------------\n",
      " |  Data descriptors defined here:\n",
      " |  \n",
      " |  __dict__\n",
      " |      dictionary for instance variables (if defined)\n",
      " |  \n",
      " |  __weakref__\n",
      " |      list of weak references to the object (if defined)\n",
      "\n"
     ]
    }
   ],
   "source": [
    "from ml.nn_perceptron import Perceptron\n",
    "help(Perceptron)"
   ]
  },
  {
   "cell_type": "markdown",
   "metadata": {},
   "source": [
    "### Step function as the activation function"
   ]
  },
  {
   "cell_type": "markdown",
   "metadata": {},
   "source": [
    "Note that the implementation of the perceptron learning algorithm used here updates all weights simultaneously (rather than in turn), so that we can used vectorised variables."
   ]
  },
  {
   "cell_type": "code",
   "execution_count": 8,
   "metadata": {},
   "outputs": [],
   "source": [
    "perceptron_step = Perceptron(10, 0.05, \"step\")"
   ]
  },
  {
   "cell_type": "code",
   "execution_count": 9,
   "metadata": {},
   "outputs": [],
   "source": [
    "y = np.where(target == 0, 1, -1)\n",
    "perceptron_step.fit(data, y)"
   ]
  },
  {
   "cell_type": "code",
   "execution_count": 10,
   "metadata": {
    "scrolled": true
   },
   "outputs": [
    {
     "data": {
      "text/plain": [
       "[50, 100, 50, 50, 42, 50, 3, 0, 0, 0]"
      ]
     },
     "execution_count": 10,
     "metadata": {},
     "output_type": "execute_result"
    }
   ],
   "source": [
    "perceptron_step.cost_per_iteration"
   ]
  },
  {
   "cell_type": "code",
   "execution_count": 11,
   "metadata": {
    "scrolled": true
   },
   "outputs": [
    {
     "data": {
      "text/plain": [
       "[<matplotlib.lines.Line2D at 0x1a1fb26be0>]"
      ]
     },
     "execution_count": 11,
     "metadata": {},
     "output_type": "execute_result"
    },
    {
     "data": {
      "image/png": "[encoded data removed]",
      "text/plain": [
       "<Figure size 432x288 with 1 Axes>"
      ]
     },
     "metadata": {
      "needs_background": "light"
     },
     "output_type": "display_data"
    }
   ],
   "source": [
    "plt.plot(perceptron_step.cost_per_iteration)"
   ]
  },
  {
   "cell_type": "markdown",
   "metadata": {},
   "source": [
    "### Identity function as activation function"
   ]
  },
  {
   "cell_type": "code",
   "execution_count": 12,
   "metadata": {},
   "outputs": [],
   "source": [
    "perceptron_adaline = Perceptron(30, 0.0001, \"Adaline\")"
   ]
  },
  {
   "cell_type": "code",
   "execution_count": 13,
   "metadata": {},
   "outputs": [],
   "source": [
    "perceptron_adaline.fit(data, y)"
   ]
  },
  {
   "cell_type": "code",
   "execution_count": 14,
   "metadata": {},
   "outputs": [
    {
     "data": {
      "text/plain": [
       "[79.2058815571701,\n",
       " 52.85567098265281,\n",
       " 49.859962454366,\n",
       " 47.14387540347067,\n",
       " 44.59922863862268,\n",
       " 42.21484268069324,\n",
       " 39.98062038222078,\n",
       " 37.887102251139765,\n",
       " 35.925424703293345,\n",
       " 34.08728251655021,\n",
       " 32.36489365671627,\n",
       " 30.750966319268514,\n",
       " 29.238668047297764,\n",
       " 27.821596794868906,\n",
       " 26.493753813247277,\n",
       " 25.24951824515927,\n",
       " 24.083623319489675,\n",
       " 22.991134045595906,\n",
       " 21.967426312770712,\n",
       " 21.008167306335974,\n",
       " 20.10929715742624,\n",
       " 19.267011748745595,\n",
       " 18.477746603477286,\n",
       " 17.738161789112855,\n",
       " 17.045127772265676,\n",
       " 16.395712164561715,\n",
       " 15.787167303473957,\n",
       " 15.216918615503197,\n",
       " 14.68255371242117,\n",
       " 14.181812174396736]"
      ]
     },
     "execution_count": 14,
     "metadata": {},
     "output_type": "execute_result"
    }
   ],
   "source": [
    "perceptron_adaline.cost_per_iteration"
   ]
  },
  {
   "cell_type": "code",
   "execution_count": 15,
   "metadata": {},
   "outputs": [
    {
     "data": {
      "text/plain": [
       "[<matplotlib.lines.Line2D at 0x1a1fbbaa58>]"
      ]
     },
     "execution_count": 15,
     "metadata": {},
     "output_type": "execute_result"
    },
    {
     "data": {
      "image/png": "[encoded data removed]",
      "text/plain": [
       "<Figure size 432x288 with 1 Axes>"
      ]
     },
     "metadata": {
      "needs_background": "light"
     },
     "output_type": "display_data"
    }
   ],
   "source": [
    "plt.plot(perceptron_adaline.cost_per_iteration)"
   ]
  },
  {
   "cell_type": "markdown",
   "metadata": {},
   "source": [
    "### Using both training and test sets"
   ]
  },
  {
   "cell_type": "code",
   "execution_count": 94,
   "metadata": {},
   "outputs": [
    {
     "data": {
      "text/plain": [
       "array([[5.6, 3. , 4.5, 1.5, 1. ],\n",
       "       [4.4, 3.2, 1.3, 0.2, 0. ],\n",
       "       [5. , 3. , 1.6, 0.2, 0. ],\n",
       "       [6.8, 3. , 5.5, 2.1, 2. ],\n",
       "       [4.9, 3. , 1.4, 0.2, 0. ],\n",
       "       [6.8, 3.2, 5.9, 2.3, 2. ],\n",
       "       [6. , 2.9, 4.5, 1.5, 1. ],\n",
       "       [5.1, 3.5, 1.4, 0.3, 0. ],\n",
       "       [5. , 2.3, 3.3, 1. , 1. ],\n",
       "       [5.5, 2.4, 3.8, 1.1, 1. ]])"
      ]
     },
     "execution_count": 94,
     "metadata": {},
     "output_type": "execute_result"
    }
   ],
   "source": [
    "# shuffle the training data, not forgetting to keep the data and its classification aligned\n",
    "unified_dataset = np.concatenate((data, target.reshape(n_samples,1)), axis=1)\n",
    "np.random.shuffle(unified_dataset)\n",
    "unified_dataset[:10]"
   ]
  },
  {
   "cell_type": "code",
   "execution_count": 95,
   "metadata": {},
   "outputs": [],
   "source": [
    "y = np.where(unified_dataset[:,-1] == 0, 1, -1)"
   ]
  },
  {
   "cell_type": "code",
   "execution_count": 96,
   "metadata": {},
   "outputs": [],
   "source": [
    "n_training = 30\n",
    "\n",
    "training_set = unified_dataset[:n_training,:-1]\n",
    "training_y = y[:n_training]\n",
    "\n",
    "test_set = unified_dataset[n_training:,:-1]\n",
    "test_y = y[n_training:]"
   ]
  },
  {
   "cell_type": "code",
   "execution_count": 97,
   "metadata": {},
   "outputs": [
    {
     "data": {
      "text/plain": [
       "[<matplotlib.lines.Line2D at 0x1a20554f60>]"
      ]
     },
     "execution_count": 97,
     "metadata": {},
     "output_type": "execute_result"
    },
    {
     "data": {
      "image/png": "[encoded data removed]",
      "text/plain": [
       "<Figure size 432x288 with 1 Axes>"
      ]
     },
     "metadata": {
      "needs_background": "light"
     },
     "output_type": "display_data"
    }
   ],
   "source": [
    "# train perceptron with the step activation function\n",
    "perceptron_step.fit(training_set, training_y)\n",
    "plt.plot(perceptron_step.cost_per_iteration)"
   ]
  },
  {
   "cell_type": "code",
   "execution_count": 98,
   "metadata": {},
   "outputs": [
    {
     "name": "stdout",
     "output_type": "stream",
     "text": [
      "n errors: 0\n"
     ]
    }
   ],
   "source": [
    "test_set_extended = np.concatenate((np.ones((test_set.shape[0], 1)), test_set), axis=1)\n",
    "print(\"n errors: %i\" % (perceptron_step.predict(test_set_extended) - test_y != 0).sum())"
   ]
  },
  {
   "cell_type": "code",
   "execution_count": 99,
   "metadata": {},
   "outputs": [
    {
     "data": {
      "text/plain": [
       "[<matplotlib.lines.Line2D at 0x1a205ac7f0>]"
      ]
     },
     "execution_count": 99,
     "metadata": {},
     "output_type": "execute_result"
    },
    {
     "data": {
      "image/png": "[encoded data removed]",
      "text/plain": [
       "<Figure size 432x288 with 1 Axes>"
      ]
     },
     "metadata": {
      "needs_background": "light"
     },
     "output_type": "display_data"
    }
   ],
   "source": [
    "# train perceptron with the step activation function\n",
    "perceptron_adaline.fit(training_set, training_y)\n",
    "plt.plot(perceptron_adaline.cost_per_iteration)"
   ]
  },
  {
   "cell_type": "code",
   "execution_count": 100,
   "metadata": {},
   "outputs": [
    {
     "name": "stdout",
     "output_type": "stream",
     "text": [
      "n errors: 39\n"
     ]
    }
   ],
   "source": [
    "test_set_extended = np.concatenate((np.ones((test_set.shape[0], 1)), test_set), axis=1)\n",
    "print(\"n errors: %i\" % (perceptron_adaline.predict(test_set_extended) - test_y != 0).sum())"
   ]
  },
  {
   "cell_type": "code",
   "execution_count": 101,
   "metadata": {},
   "outputs": [
    {
     "data": {
      "text/plain": [
       "(array([  1.09791607,   0.94286063,   6.2040092 , -12.28264378,\n",
       "         -5.57354624]),\n",
       " array([ 0.01128166, -0.01627952,  0.03813344, -0.09706092, -0.05266028]))"
      ]
     },
     "execution_count": 101,
     "metadata": {},
     "output_type": "execute_result"
    }
   ],
   "source": [
    "perceptron_step.w, perceptron_adaline.w"
   ]
  },
  {
   "cell_type": "code",
   "execution_count": 102,
   "metadata": {},
   "outputs": [
    {
     "data": {
      "text/plain": [
       "array([1. , 6.4, 3.2, 5.3, 2.3])"
      ]
     },
     "execution_count": 102,
     "metadata": {},
     "output_type": "execute_result"
    }
   ],
   "source": [
    "test_set_extended[19,:]"
   ]
  },
  {
   "cell_type": "code",
   "execution_count": 103,
   "metadata": {},
   "outputs": [
    {
     "data": {
      "text/plain": [
       "[(-60.06755442505782, -0.6945393052397933),\n",
       " (-34.6746018568631, -0.45701347912369694),\n",
       " (5.969041363541454, -0.10113174178282608),\n",
       " (-35.1256997185895, -0.46488471494933986),\n",
       " (-44.86113762329398, -0.5582178864191664),\n",
       " (4.0891362993805895, -0.11447590971829183),\n",
       " (-27.093565451287454, -0.3871743591794994),\n",
       " (-43.039744158235315, -0.5215223603745762),\n",
       " (14.372155038205197, -0.033916735306560086),\n",
       " (-56.54115703531727, -0.6455274093203529),\n",
       " (-32.145253015856184, -0.4210139543250249),\n",
       " (-54.02774682777703, -0.6315514510085409),\n",
       " (8.784012065077285, -0.09013550232054812),\n",
       " (15.528662715211047, -0.057610967748499275),\n",
       " (-49.454995719654086, -0.5813048527424087),\n",
       " (-40.19608958859076, -0.500628447011748),\n",
       " (-73.08103159197483, -0.8057626959177833),\n",
       " (-58.6370469353439, -0.6923728189551064),\n",
       " (-51.19464058323518, -0.6175489260210018),\n",
       " (-50.932114847217484, -0.606421786351081),\n",
       " (4.927718964361841, -0.09617860530774192),\n",
       " (-41.7091909531716, -0.5374222989092321),\n",
       " (-34.30022127741151, -0.4434058572422752),\n",
       " (7.275086408278112, -0.11397501954958833),\n",
       " (-43.518969463675724, -0.49945101001568026),\n",
       " (13.116477950272685, -0.08037997288398371),\n",
       " (-51.804700950973874, -0.6044243934204001),\n",
       " (8.20795513611372, -0.09730566706117734),\n",
       " (-52.08026077062823, -0.5977612932657218),\n",
       " (-21.562303930148865, -0.3255193664096071),\n",
       " (-60.77331289146671, -0.712860584955474),\n",
       " (-53.6059800747842, -0.6061420183096862),\n",
       " (-39.982083550967296, -0.499098820942503),\n",
       " (-35.82331454270033, -0.44725083742995914),\n",
       " (5.950339058108934, -0.10303587869970879),\n",
       " (8.30004428942872, -0.07991633802171749),\n",
       " (-39.441234323329404, -0.5147542109972378),\n",
       " (-62.62233717797948, -0.7353243599519883),\n",
       " (7.49489830079612, -0.11740619116511955),\n",
       " (-60.11855988198604, -0.6794551906405811),\n",
       " (-40.69039791607673, -0.50734715898638),\n",
       " (9.511236508884531, -0.09002951525796216),\n",
       " (-46.42857487919535, -0.5587060455390822),\n",
       " (-46.59263884457701, -0.5585068024626979),\n",
       " (-65.89421159613626, -0.7492310375551328),\n",
       " (4.5298936092695765, -0.1235425501661116),\n",
       " (-57.76779126597986, -0.6731486337074313),\n",
       " (-55.51180533508794, -0.6495032897156796),\n",
       " (-25.960153898792836, -0.3747381666151237),\n",
       " (10.299310339197488, -0.0723589313846629),\n",
       " (7.461461624447466, -0.09821364243226738),\n",
       " (9.811166855767254, -0.07509410175427605),\n",
       " (-33.191110111978674, -0.4379594918081796),\n",
       " (-43.62196593125462, -0.5326760667202242),\n",
       " (-34.36886565508584, -0.44703886330478715),\n",
       " (-49.913888572549105, -0.5752444978198503),\n",
       " (-35.199086566471976, -0.480369907071917),\n",
       " (-38.83082530446126, -0.47799199561457684),\n",
       " (-50.66179412003118, -0.6092262374293617),\n",
       " (-49.913888572549105, -0.5752444978198503),\n",
       " (2.712468078727298, -0.13723725364408418),\n",
       " (-47.40104512743535, -0.5601663908996597),\n",
       " (10.915535550991933, -0.08149992238024575),\n",
       " (5.024201936755555, -0.11682383819147961),\n",
       " (12.188143919379943, -0.07515065141415578),\n",
       " (9.695981577941014, -0.0563530057874211),\n",
       " (-49.17830237514676, -0.5901722501138443),\n",
       " (7.975039019792453, -0.09069294214913132),\n",
       " (-44.67419564469814, -0.5435586579102241),\n",
       " (7.660941064420085, -0.08563381861146117),\n",
       " (-42.47545015495675, -0.5234214274523633),\n",
       " (-25.498715485229017, -0.3499290545160182),\n",
       " (-44.75594424617572, -0.5440101106762213),\n",
       " (-32.61448642058861, -0.43189147567592906),\n",
       " (9.310126921799043, -0.0846942067255482),\n",
       " (-34.937127592880785, -0.4681406187936176),\n",
       " (6.482618758886439, -0.09361104149969002),\n",
       " (-40.262744829991, -0.513232246137685),\n",
       " (-38.31781467154276, -0.4693691467230622),\n",
       " (-47.58288564666184, -0.5540290940587418),\n",
       " (12.455908747865681, -0.06788216082063275),\n",
       " (-39.13493135912565, -0.5058817437867068),\n",
       " (5.411686740010406, -0.10639776960657257),\n",
       " (-38.433348600498434, -0.50051479873947),\n",
       " (-34.5825127035481, -0.4396241500842371),\n",
       " (6.977493848798906, -0.0879944781334367),\n",
       " (9.605522571738891, -0.0916574671801011),\n",
       " (-55.988903871155586, -0.6610579068464668),\n",
       " (9.836241778520801, -0.07925291113054828),\n",
       " (2.2655459247825647, -0.13215415480128323),\n",
       " (-45.99731284775444, -0.5505346494135648),\n",
       " (9.886750613189092, -0.07862619059329769),\n",
       " (-30.34256185623004, -0.3862225651973174),\n",
       " (-38.84173261872515, -0.49382772327966085),\n",
       " (-32.95365929871453, -0.42267354276198665),\n",
       " (-41.8790607734478, -0.5322622581480715),\n",
       " (1.970509264003912, -0.11624655505693529),\n",
       " (-53.658467707694804, -0.6387403544769796),\n",
       " (-53.785623684471325, -0.619022002430367),\n",
       " (-51.108149511549435, -0.6052452871949393),\n",
       " (-58.34661186690927, -0.6601993688780831),\n",
       " (-57.634262671882304, -0.6989299320471987),\n",
       " (8.714800924976473, -0.09266635977468146),\n",
       " (-50.578066720311284, -0.5768031690333218),\n",
       " (-61.44061370035595, -0.7032441658887632),\n",
       " (6.776384261713412, -0.08265916960102276),\n",
       " (-32.6150531830151, -0.4307893270675504),\n",
       " (-49.36963817282132, -0.5667969166995891),\n",
       " (-51.22227140468927, -0.6033171749729258),\n",
       " (-57.6625978888616, -0.6589408579644862),\n",
       " (-36.340859872561694, -0.47777236027971276),\n",
       " (9.38571067922088, -0.08822629556456982),\n",
       " (-36.64716283676544, -0.4866448274902439),\n",
       " (5.128828551447329, -0.10151391384015584),\n",
       " (-37.98062059165916, -0.5105586952670472),\n",
       " (-29.8460566192047, -0.3985211341842842),\n",
       " (-35.913773548902455, -0.4825552988226391),\n",
       " (-53.82720400311803, -0.6357846109325763),\n",
       " (7.367175561593108, -0.09658569051012847),\n",
       " (-48.62455669697089, -0.5989627055669203)]"
      ]
     },
     "execution_count": 103,
     "metadata": {},
     "output_type": "execute_result"
    }
   ],
   "source": [
    "list(zip(np.dot(test_set_extended, perceptron_step.w), np.dot(test_set_extended, perceptron_adaline.w)))"
   ]
  },
  {
   "cell_type": "code",
   "execution_count": 104,
   "metadata": {},
   "outputs": [
    {
     "data": {
      "text/plain": [
       "[(-1, -1),\n",
       " (-1, -1),\n",
       " (1, -1),\n",
       " (-1, -1),\n",
       " (-1, -1),\n",
       " (1, -1),\n",
       " (-1, -1),\n",
       " (-1, -1),\n",
       " (1, -1),\n",
       " (-1, -1),\n",
       " (-1, -1),\n",
       " (-1, -1),\n",
       " (1, -1),\n",
       " (1, -1),\n",
       " (-1, -1),\n",
       " (-1, -1),\n",
       " (-1, -1),\n",
       " (-1, -1),\n",
       " (-1, -1),\n",
       " (-1, -1),\n",
       " (1, -1),\n",
       " (-1, -1),\n",
       " (-1, -1),\n",
       " (1, -1),\n",
       " (-1, -1),\n",
       " (1, -1),\n",
       " (-1, -1),\n",
       " (1, -1),\n",
       " (-1, -1),\n",
       " (-1, -1),\n",
       " (-1, -1),\n",
       " (-1, -1),\n",
       " (-1, -1),\n",
       " (-1, -1),\n",
       " (1, -1),\n",
       " (1, -1),\n",
       " (-1, -1),\n",
       " (-1, -1),\n",
       " (1, -1),\n",
       " (-1, -1),\n",
       " (-1, -1),\n",
       " (1, -1),\n",
       " (-1, -1),\n",
       " (-1, -1),\n",
       " (-1, -1),\n",
       " (1, -1),\n",
       " (-1, -1),\n",
       " (-1, -1),\n",
       " (-1, -1),\n",
       " (1, -1),\n",
       " (1, -1),\n",
       " (1, -1),\n",
       " (-1, -1),\n",
       " (-1, -1),\n",
       " (-1, -1),\n",
       " (-1, -1),\n",
       " (-1, -1),\n",
       " (-1, -1),\n",
       " (-1, -1),\n",
       " (-1, -1),\n",
       " (1, -1),\n",
       " (-1, -1),\n",
       " (1, -1),\n",
       " (1, -1),\n",
       " (1, -1),\n",
       " (1, -1),\n",
       " (-1, -1),\n",
       " (1, -1),\n",
       " (-1, -1),\n",
       " (1, -1),\n",
       " (-1, -1),\n",
       " (-1, -1),\n",
       " (-1, -1),\n",
       " (-1, -1),\n",
       " (1, -1),\n",
       " (-1, -1),\n",
       " (1, -1),\n",
       " (-1, -1),\n",
       " (-1, -1),\n",
       " (-1, -1),\n",
       " (1, -1),\n",
       " (-1, -1),\n",
       " (1, -1),\n",
       " (-1, -1),\n",
       " (-1, -1),\n",
       " (1, -1),\n",
       " (1, -1),\n",
       " (-1, -1),\n",
       " (1, -1),\n",
       " (1, -1),\n",
       " (-1, -1),\n",
       " (1, -1),\n",
       " (-1, -1),\n",
       " (-1, -1),\n",
       " (-1, -1),\n",
       " (-1, -1),\n",
       " (1, -1),\n",
       " (-1, -1),\n",
       " (-1, -1),\n",
       " (-1, -1),\n",
       " (-1, -1),\n",
       " (-1, -1),\n",
       " (1, -1),\n",
       " (-1, -1),\n",
       " (-1, -1),\n",
       " (1, -1),\n",
       " (-1, -1),\n",
       " (-1, -1),\n",
       " (-1, -1),\n",
       " (-1, -1),\n",
       " (-1, -1),\n",
       " (1, -1),\n",
       " (-1, -1),\n",
       " (1, -1),\n",
       " (-1, -1),\n",
       " (-1, -1),\n",
       " (-1, -1),\n",
       " (-1, -1),\n",
       " (1, -1),\n",
       " (-1, -1)]"
      ]
     },
     "execution_count": 104,
     "metadata": {},
     "output_type": "execute_result"
    }
   ],
   "source": [
    "list(zip(perceptron_step.predict(test_set_extended), perceptron_adaline.predict(test_set_extended)))"
   ]
  },
  {
   "cell_type": "code",
   "execution_count": null,
   "metadata": {},
   "outputs": [],
   "source": []
  }
 ],
 "metadata": {
  "kernelspec": {
   "display_name": "Python 3",
   "language": "python",
   "name": "python3"
  },
  "language_info": {
   "codemirror_mode": {
    "name": "ipython",
    "version": 3
   },
   "file_extension": ".py",
   "mimetype": "text/x-python",
   "name": "python",
   "nbconvert_exporter": "python",
   "pygments_lexer": "ipython3",
   "version": "3.6.6"
  }
 },
 "nbformat": 4,
 "nbformat_minor": 1
}
